{
 "metadata": {
  "name": "",
  "signature": "sha256:a5b5dce2d68d301deed4f5a0deb69aadefde9b6bd1a5d4302ecc374ac4f09e52"
 },
 "nbformat": 3,
 "nbformat_minor": 0,
 "worksheets": [
  {
   "cells": [
    {
     "cell_type": "heading",
     "level": 1,
     "metadata": {},
     "source": [
      "My First Notebook on Windows 8"
     ]
    },
    {
     "cell_type": "markdown",
     "metadata": {},
     "source": [
      "This is located in c:\\\\Users\\Mara\\\\.ipython\\\\profile_default"
     ]
    },
    {
     "cell_type": "markdown",
     "metadata": {},
     "source": [
      "I have also pinned a short-cut to the taskbar."
     ]
    },
    {
     "cell_type": "markdown",
     "metadata": {},
     "source": [
      "This is based on IPython Cookbook by Julia Evans.\n",
      "\"http://donnees.ville.montreal.qc.ca/storage/f/2014-01-20T20%3A48%3A50.296Z/2013.csv\"\n"
     ]
    },
    {
     "cell_type": "code",
     "collapsed": false,
     "input": [
      "import numpy as np\n",
      "import pandas as pd\n",
      "import matplotlib.pyplot as plt\n",
      "%matplotlib inline"
     ],
     "language": "python",
     "metadata": {},
     "outputs": []
    },
    {
     "cell_type": "markdown",
     "metadata": {},
     "source": [
      "The dataset we will use concerns attendance on Montreal's bikeways."
     ]
    },
    {
     "cell_type": "code",
     "collapsed": false,
     "input": [
      "url = \"http://donnees.ville.montreal.qc.ca/storage/f/2014-01-20T20%3A48%3A50.296Z/2013.csv\""
     ],
     "language": "python",
     "metadata": {},
     "outputs": []
    },
    {
     "cell_type": "code",
     "collapsed": false,
     "input": [
      "df = pd.read_csv(url,index_col=\"Date\", parse_dates=True, dayfirst=True)"
     ],
     "language": "python",
     "metadata": {},
     "outputs": []
    },
    {
     "cell_type": "code",
     "collapsed": false,
     "input": [
      "df.head(2)"
     ],
     "language": "python",
     "metadata": {},
     "outputs": []
    },
    {
     "cell_type": "markdown",
     "metadata": {},
     "source": [
      "Well, this is just as expected. I just copied the code. Let's change it up a bit and make it more personal.\n",
      "For example:\n",
      "What if I download the .csv file and access it from my computer."
     ]
    },
    {
     "cell_type": "markdown",
     "metadata": {},
     "source": [
      "So I saved as MontrealBikes2013.csv in C:\\\\Anaconda"
     ]
    },
    {
     "cell_type": "code",
     "collapsed": false,
     "input": [
      "bikes = pd.read_csv(\"c:\\\\Anaconda\\MontrealBikes2013.csv\")"
     ],
     "language": "python",
     "metadata": {},
     "outputs": []
    },
    {
     "cell_type": "code",
     "collapsed": false,
     "input": [
      "bikes.head(2)"
     ],
     "language": "python",
     "metadata": {},
     "outputs": []
    },
    {
     "cell_type": "markdown",
     "metadata": {},
     "source": [
      "As you can see, the file has been successfully read. I'm not sure what index-col and parse-dates do, but the head(2) looks the same."
     ]
    },
    {
     "cell_type": "code",
     "collapsed": false,
     "input": [
      "df.describe()"
     ],
     "language": "python",
     "metadata": {},
     "outputs": []
    },
    {
     "cell_type": "code",
     "collapsed": false,
     "input": [
      "bikes.describe()"
     ],
     "language": "python",
     "metadata": {},
     "outputs": []
    },
    {
     "cell_type": "heading",
     "level": 1,
     "metadata": {},
     "source": [
      "Basic Plot: Scatterplot "
     ]
    },
    {
     "cell_type": "markdown",
     "metadata": {},
     "source": [
      "Now to plot some data.\n",
      "We will start with a series of scatterplots. In the following plot the ';' is necessary."
     ]
    },
    {
     "cell_type": "code",
     "collapsed": false,
     "input": [
      "df[['Berri1', 'PierDup']].plot(figsize=(8,4),style=['-', '--']);"
     ],
     "language": "python",
     "metadata": {},
     "outputs": []
    },
    {
     "cell_type": "code",
     "collapsed": false,
     "input": [
      "bikes[['Berri1','PierDup']].plot();"
     ],
     "language": "python",
     "metadata": {},
     "outputs": []
    },
    {
     "cell_type": "code",
     "collapsed": false,
     "input": [
      "bikes[['Berri1','PierDup']].plot(figsize=(8,4));"
     ],
     "language": "python",
     "metadata": {},
     "outputs": []
    },
    {
     "cell_type": "markdown",
     "metadata": {},
     "source": [
      "Great. The basic structure of the graph is there. But the x-axis is numerical and I want it Monthly. Let's go back and put in the delimeters when reading the file."
     ]
    },
    {
     "cell_type": "code",
     "collapsed": false,
     "input": [
      "bikes[['Berri1','CSC']].plot();"
     ],
     "language": "python",
     "metadata": {},
     "outputs": []
    },
    {
     "cell_type": "code",
     "collapsed": false,
     "input": [
      "bikes = pd.read_csv(\"c:\\\\Anaconda\\MontrealBikes2013.csv\", index_col='Date')"
     ],
     "language": "python",
     "metadata": {},
     "outputs": []
    },
    {
     "cell_type": "code",
     "collapsed": false,
     "input": [
      "bikes[['Berri1','PierDup']].plot(figsize=(8,4));"
     ],
     "language": "python",
     "metadata": {},
     "outputs": []
    },
    {
     "cell_type": "markdown",
     "metadata": {},
     "source": [
      "Better. Here we see the dates. Let's try another parameter."
     ]
    },
    {
     "cell_type": "code",
     "collapsed": false,
     "input": [
      "bikes = pd.read_csv(\"c:\\\\Anaconda\\MontrealBikes2013.csv\", parse_dates=True)"
     ],
     "language": "python",
     "metadata": {},
     "outputs": []
    },
    {
     "cell_type": "code",
     "collapsed": false,
     "input": [
      "bikes[['Berri1','PierDup']].plot(figsize=(8,4));"
     ],
     "language": "python",
     "metadata": {},
     "outputs": []
    },
    {
     "cell_type": "markdown",
     "metadata": {},
     "source": [
      "Nope."
     ]
    },
    {
     "cell_type": "code",
     "collapsed": false,
     "input": [
      "bikes = pd.read_csv(\"c:\\\\Anaconda\\MontrealBikes2013.csv\", index_col='Date', parse_dates=True, dayfirst=True)"
     ],
     "language": "python",
     "metadata": {},
     "outputs": []
    },
    {
     "cell_type": "code",
     "collapsed": false,
     "input": [
      "bikes[['Berri1','PierDup']].plot(figsize=(8,4));"
     ],
     "language": "python",
     "metadata": {},
     "outputs": []
    },
    {
     "cell_type": "heading",
     "level": 4,
     "metadata": {},
     "source": [
      "YES!"
     ]
    },
    {
     "cell_type": "code",
     "collapsed": false,
     "input": [
      "bikes[['Berri1','CSC']].plot(figsize=(8,4));"
     ],
     "language": "python",
     "metadata": {},
     "outputs": []
    },
    {
     "cell_type": "markdown",
     "metadata": {},
     "source": [
      "This is boring. Let's take a look at the entire data set in one graph. Recall the bike ways (or columns in our dataset) are:"
     ]
    },
    {
     "cell_type": "markdown",
     "metadata": {},
     "source": [
      "Berri1,\tCSC,\tMais1,\tMais2,\tPar,c\tPierDup,\tRachel1,\tTotem_Laurier"
     ]
    },
    {
     "cell_type": "code",
     "collapsed": false,
     "input": [
      "bikes[['Berri1', 'CSC', 'Mais1', 'Mais2', 'Parc', 'PierDup', 'Rachel1', 'Totem_Laurier']].plot(figsize=(20,8));"
     ],
     "language": "python",
     "metadata": {},
     "outputs": []
    },
    {
     "cell_type": "markdown",
     "metadata": {},
     "source": [
      " Fantastic! First I notice that Rachel1 and Mais2 are consistently on top. PierDup is usually behind but sometimes there is anotherone. It is hard to read the colors so I may want to choose different styles. I'd like to get a close look at May and June. That is where the extreme behavior takes place. Then we can move into weekday differentiation and follow the tutorial."
     ]
    },
    {
     "cell_type": "code",
     "collapsed": false,
     "input": [
      "bikes[['Berri1', 'CSC', 'Mais1', 'Mais2', 'Parc', 'PierDup', 'Rachel1', 'Totem_Laurier']].plot(figsize=(10,4));"
     ],
     "language": "python",
     "metadata": {},
     "outputs": []
    },
    {
     "cell_type": "code",
     "collapsed": false,
     "input": [
      "bikes.index.month"
     ],
     "language": "python",
     "metadata": {},
     "outputs": []
    },
    {
     "cell_type": "markdown",
     "metadata": {},
     "source": [
      "OK, so I have a basic misunderstanding of the the dataframe and need to review how to access the 3 months which are the rows of the dataframe."
     ]
    },
    {
     "cell_type": "code",
     "collapsed": false,
     "input": [
      "len(bikes)"
     ],
     "language": "python",
     "metadata": {},
     "outputs": []
    },
    {
     "cell_type": "code",
     "collapsed": false,
     "input": [
      "bikes.index"
     ],
     "language": "python",
     "metadata": {},
     "outputs": []
    },
    {
     "cell_type": "code",
     "collapsed": false,
     "input": [
      "bikes[120:150]"
     ],
     "language": "python",
     "metadata": {},
     "outputs": []
    },
    {
     "cell_type": "markdown",
     "metadata": {},
     "source": [
      "Went back to NumPy docs. This is a basic nparray."
     ]
    },
    {
     "cell_type": "code",
     "collapsed": false,
     "input": [
      "bikes[120:180].plot(figsize=(20,8));"
     ],
     "language": "python",
     "metadata": {},
     "outputs": []
    },
    {
     "cell_type": "markdown",
     "metadata": {},
     "source": [
      "Whoo Hoo! Now the x-axis needs relabelling to reflect dates."
     ]
    },
    {
     "cell_type": "code",
     "collapsed": false,
     "input": [
      "bikes[[120:150]['Berri1', 'CSC', 'Mais1', 'Mais2', 'Parc', 'PierDup', 'Rachel1', 'Totem_Laurier']].plot(figsize=(20,8));"
     ],
     "language": "python",
     "metadata": {},
     "outputs": []
    },
    {
     "cell_type": "heading",
     "level": 4,
     "metadata": {},
     "source": [
      "Back to the tutorial: Weekday "
     ]
    },
    {
     "cell_type": "markdown",
     "metadata": {},
     "source": [
      "While doing that, let's just follow along in the tutorial. Sometimes, I'll find what I need as we progress. The next thing on the list is to access weekday information."
     ]
    },
    {
     "cell_type": "code",
     "collapsed": false,
     "input": [
      "df.index.weekday"
     ],
     "language": "python",
     "metadata": {},
     "outputs": []
    },
    {
     "cell_type": "code",
     "collapsed": false,
     "input": [
      "days = np.array(['Monday', 'Tuesday', 'Wednesday', \n",
      "                 'Thursday', 'Friday', 'Saturday', \n",
      "                 'Sunday'])\n",
      "df['Weekday'] = days[df.index.weekday]"
     ],
     "language": "python",
     "metadata": {},
     "outputs": []
    },
    {
     "cell_type": "code",
     "collapsed": false,
     "input": [
      "df_week = df.groupby('Weekday').sum()"
     ],
     "language": "python",
     "metadata": {},
     "outputs": []
    },
    {
     "cell_type": "code",
     "collapsed": false,
     "input": [
      "df_week"
     ],
     "language": "python",
     "metadata": {},
     "outputs": []
    },
    {
     "cell_type": "code",
     "collapsed": false,
     "input": [
      "df_week.ix[days].plot(lw=3, figsize=(10,4));\n",
      "plt.ylim(0);  # Set the bottom axis to 0."
     ],
     "language": "python",
     "metadata": {},
     "outputs": []
    },
    {
     "cell_type": "code",
     "collapsed": false,
     "input": [
      "from IPython.html.widgets import interact\n",
      "@interact\n",
      "def plot(n=(1, 30)):\n",
      "    plt.figure(figsize=(8,4));\n",
      "    pd.rolling_mean(df['Berri1'], n).dropna().plot();\n",
      "    plt.ylim(0, 8000);\n",
      "    plt.show();"
     ],
     "language": "python",
     "metadata": {},
     "outputs": []
    },
    {
     "cell_type": "heading",
     "level": 4,
     "metadata": {},
     "source": [
      "Let's examine the monthly data"
     ]
    },
    {
     "cell_type": "code",
     "collapsed": false,
     "input": [
      "bikes.index.month"
     ],
     "language": "python",
     "metadata": {},
     "outputs": []
    },
    {
     "cell_type": "code",
     "collapsed": false,
     "input": [
      "month = np.array(['Jan', 'Feb', 'Mar', 'Apr', 'May', 'Jun','Jul','Aug','Sep','Oct'])\n",
      "bikes['Month'] = month[bikes.index.month]"
     ],
     "language": "python",
     "metadata": {},
     "outputs": []
    },
    {
     "cell_type": "code",
     "collapsed": false,
     "input": [
      "bikes_month = bikes.groupby('Month').sum()"
     ],
     "language": "python",
     "metadata": {},
     "outputs": []
    },
    {
     "cell_type": "code",
     "collapsed": false,
     "input": [
      "bikes_month = bikes.groupby('Month')"
     ],
     "language": "python",
     "metadata": {},
     "outputs": []
    },
    {
     "cell_type": "code",
     "collapsed": false,
     "input": [
      "bikes_month"
     ],
     "language": "python",
     "metadata": {},
     "outputs": []
    },
    {
     "cell_type": "code",
     "collapsed": false,
     "input": [
      "bikes_month.ix[month].plot(lw=3, figsize=(15,10));\n",
      "plt.ylim(0);  # Set the bottom axis to 0."
     ],
     "language": "python",
     "metadata": {},
     "outputs": []
    },
    {
     "cell_type": "code",
     "collapsed": false,
     "input": [
      "bikes[\"Month\",['Berri1', 'CSC', 'Mais1', 'Mais2', 'Parc', 'PierDup', 'Rachel1', 'Totem_Laurier']].plot(figsize=(20,8));"
     ],
     "language": "python",
     "metadata": {},
     "outputs": []
    },
    {
     "cell_type": "code",
     "collapsed": false,
     "input": [
      "bikes['Rachel1']"
     ],
     "language": "python",
     "metadata": {},
     "outputs": []
    },
    {
     "cell_type": "code",
     "collapsed": false,
     "input": [
      "plt.hist(bikes['Rachel1'],10)"
     ],
     "language": "python",
     "metadata": {},
     "outputs": []
    },
    {
     "cell_type": "markdown",
     "metadata": {},
     "source": [
      "After a few tries, I actually got this to work. Thank goodness for coffee!!! and I am now a fan of Starbucks. Off to a meeting and hopefully will be able to come back later this afternoon. this represents about 2 hours of work."
     ]
    },
    {
     "cell_type": "code",
     "collapsed": false,
     "input": [],
     "language": "python",
     "metadata": {},
     "outputs": []
    }
   ],
   "metadata": {}
  }
 ]
}